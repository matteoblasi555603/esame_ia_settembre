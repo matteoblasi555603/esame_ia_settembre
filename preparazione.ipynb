{
 "cells": [
  {
   "cell_type": "markdown",
   "metadata": {},
   "source": [
    "# Notebook di preparazione"
   ]
  },
  {
   "cell_type": "code",
   "execution_count": 153,
   "metadata": {},
   "outputs": [
    {
     "name": "stdout",
     "output_type": "stream",
     "text": [
      "Requirement already satisfied: pandas in c:\\users\\tesys\\anaconda3\\lib\\site-packages (from -r requirements.txt (line 1)) (1.0.5)\n",
      "Requirement already satisfied: numpy in c:\\users\\tesys\\anaconda3\\lib\\site-packages (from -r requirements.txt (line 2)) (1.18.5)\n",
      "Requirement already satisfied: scikit-learn in c:\\users\\tesys\\anaconda3\\lib\\site-packages (from -r requirements.txt (line 3)) (0.23.2)\n",
      "Requirement already satisfied: python-dateutil>=2.6.1 in c:\\users\\tesys\\anaconda3\\lib\\site-packages (from pandas->-r requirements.txt (line 1)) (2.8.1)\n",
      "Requirement already satisfied: pytz>=2017.2 in c:\\users\\tesys\\anaconda3\\lib\\site-packages (from pandas->-r requirements.txt (line 1)) (2020.1)\n",
      "Requirement already satisfied: threadpoolctl>=2.0.0 in c:\\users\\tesys\\anaconda3\\lib\\site-packages (from scikit-learn->-r requirements.txt (line 3)) (2.1.0)\n",
      "Requirement already satisfied: scipy>=0.19.1 in c:\\users\\tesys\\anaconda3\\lib\\site-packages (from scikit-learn->-r requirements.txt (line 3)) (1.5.0)\n",
      "Requirement already satisfied: joblib>=0.11 in c:\\users\\tesys\\anaconda3\\lib\\site-packages (from scikit-learn->-r requirements.txt (line 3)) (0.16.0)\n",
      "Requirement already satisfied: six>=1.5 in c:\\users\\tesys\\anaconda3\\lib\\site-packages (from python-dateutil>=2.6.1->pandas->-r requirements.txt (line 1)) (1.15.0)\n"
     ]
    }
   ],
   "source": [
    "!pip install -r requirements.txt"
   ]
  },
  {
   "cell_type": "code",
   "execution_count": 23,
   "metadata": {},
   "outputs": [],
   "source": [
    "import pandas as pd\n",
    "import numpy as np\n",
    "import os\n",
    "import math\n",
    "from sklearn.utils import shuffle"
   ]
  },
  {
   "cell_type": "code",
   "execution_count": 24,
   "metadata": {},
   "outputs": [],
   "source": [
    "dataset_attacchi_cardiaci = pd.read_csv(os.path.join('.', \"heart_failure_clinical_records_dataset.train.csv\")).dropna()"
   ]
  },
  {
   "cell_type": "code",
   "execution_count": 25,
   "metadata": {},
   "outputs": [
    {
     "data": {
      "text/plain": [
       "['DEATH_EVENT',\n",
       " 'age',\n",
       " 'anaemia',\n",
       " 'creatinine_phosphokinase',\n",
       " 'diabetes',\n",
       " 'ejection_fraction',\n",
       " 'high_blood_pressure',\n",
       " 'platelets',\n",
       " 'serum_creatinine',\n",
       " 'serum_sodium',\n",
       " 'sex',\n",
       " 'smoking',\n",
       " 'time']"
      ]
     },
     "execution_count": 25,
     "metadata": {},
     "output_type": "execute_result"
    }
   ],
   "source": [
    "data_columns = list(dataset_attacchi_cardiaci.columns.values)\n",
    "data_columns"
   ]
  },
  {
   "cell_type": "code",
   "execution_count": 26,
   "metadata": {},
   "outputs": [],
   "source": [
    "# cancellazione di righe con valori non numerici al loro interno\n",
    "\n",
    "dataset_attacchi_cardiaci = (dataset_attacchi_cardiaci.drop(data_columns, axis=1)\n",
    "         .join(dataset_attacchi_cardiaci[data_columns].apply(pd.to_numeric, errors='coerce')))\n",
    "\n",
    "dataset_attacchi_cardiaci = dataset_attacchi_cardiaci[dataset_attacchi_cardiaci[data_columns].notnull().all(axis=1)]"
   ]
  },
  {
   "cell_type": "code",
   "execution_count": 27,
   "metadata": {},
   "outputs": [],
   "source": [
    "dataset_attacchi_cardiaci = shuffle(dataset_attacchi_cardiaci)\n",
    "dataset_attacchi_cardiaci = dataset_attacchi_cardiaci.reset_index(drop=True)"
   ]
  },
  {
   "cell_type": "code",
   "execution_count": 28,
   "metadata": {},
   "outputs": [
    {
     "data": {
      "text/plain": [
       "179"
      ]
     },
     "execution_count": 28,
     "metadata": {},
     "output_type": "execute_result"
    }
   ],
   "source": [
    "# TRAINING SET 75 % TEST SET 25%\n",
    "split_size = np.shape(dataset_attacchi_cardiaci)[0]\n",
    "split_limit = split_size - math.floor(split_size * 0.25)\n",
    "split_limit"
   ]
  },
  {
   "cell_type": "code",
   "execution_count": 29,
   "metadata": {},
   "outputs": [],
   "source": [
    "attacchi_cardiaci_training = dataset_attacchi_cardiaci[dataset_attacchi_cardiaci.index < split_limit]\n",
    "attacchi_cardiaci_test = dataset_attacchi_cardiaci[dataset_attacchi_cardiaci.index >= split_limit]"
   ]
  },
  {
   "cell_type": "code",
   "execution_count": 30,
   "metadata": {},
   "outputs": [],
   "source": [
    "# SCRIVO I DUE FILE CSV\n",
    "attacchi_cardiaci_training.to_csv('training.csv', ',')\n",
    "attacchi_cardiaci_test.to_csv('test.csv', ',')"
   ]
  },
  {
   "cell_type": "code",
   "execution_count": null,
   "metadata": {},
   "outputs": [],
   "source": []
  }
 ],
 "metadata": {
  "kernelspec": {
   "display_name": "Python 3",
   "language": "python",
   "name": "python3"
  },
  "language_info": {
   "codemirror_mode": {
    "name": "ipython",
    "version": 3
   },
   "file_extension": ".py",
   "mimetype": "text/x-python",
   "name": "python",
   "nbconvert_exporter": "python",
   "pygments_lexer": "ipython3",
   "version": "3.8.3"
  }
 },
 "nbformat": 4,
 "nbformat_minor": 4
}
