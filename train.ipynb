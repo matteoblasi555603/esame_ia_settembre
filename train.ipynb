{
 "cells": [
  {
   "cell_type": "markdown",
   "metadata": {},
   "source": [
    "# Notebook training - Rete Neurale"
   ]
  },
  {
   "cell_type": "code",
   "execution_count": 22,
   "metadata": {},
   "outputs": [
    {
     "name": "stdout",
     "output_type": "stream",
     "text": [
      "Requirement already satisfied: pandas in c:\\users\\tesys\\anaconda3\\lib\\site-packages (from -r requirements.txt (line 1)) (1.0.5)\n",
      "Requirement already satisfied: numpy in c:\\users\\tesys\\anaconda3\\lib\\site-packages (from -r requirements.txt (line 2)) (1.18.5)\n",
      "Requirement already satisfied: scikit-learn in c:\\users\\tesys\\anaconda3\\lib\\site-packages (from -r requirements.txt (line 3)) (0.23.1)\n",
      "Requirement already satisfied: matplotlib in c:\\users\\tesys\\anaconda3\\lib\\site-packages (from -r requirements.txt (line 4)) (3.2.2)\n",
      "Requirement already satisfied: pytz>=2017.2 in c:\\users\\tesys\\anaconda3\\lib\\site-packages (from pandas->-r requirements.txt (line 1)) (2020.1)\n",
      "Requirement already satisfied: python-dateutil>=2.6.1 in c:\\users\\tesys\\anaconda3\\lib\\site-packages (from pandas->-r requirements.txt (line 1)) (2.8.1)\n",
      "Requirement already satisfied: threadpoolctl>=2.0.0 in c:\\users\\tesys\\anaconda3\\lib\\site-packages (from scikit-learn->-r requirements.txt (line 3)) (2.1.0)\n",
      "Requirement already satisfied: scipy>=0.19.1 in c:\\users\\tesys\\anaconda3\\lib\\site-packages (from scikit-learn->-r requirements.txt (line 3)) (1.5.0)\n",
      "Requirement already satisfied: joblib>=0.11 in c:\\users\\tesys\\anaconda3\\lib\\site-packages (from scikit-learn->-r requirements.txt (line 3)) (0.16.0)\n",
      "Requirement already satisfied: kiwisolver>=1.0.1 in c:\\users\\tesys\\anaconda3\\lib\\site-packages (from matplotlib->-r requirements.txt (line 4)) (1.2.0)\n",
      "Requirement already satisfied: cycler>=0.10 in c:\\users\\tesys\\anaconda3\\lib\\site-packages (from matplotlib->-r requirements.txt (line 4)) (0.10.0)\n",
      "Requirement already satisfied: pyparsing!=2.0.4,!=2.1.2,!=2.1.6,>=2.0.1 in c:\\users\\tesys\\anaconda3\\lib\\site-packages (from matplotlib->-r requirements.txt (line 4)) (2.4.7)\n",
      "Requirement already satisfied: six>=1.5 in c:\\users\\tesys\\anaconda3\\lib\\site-packages (from python-dateutil>=2.6.1->pandas->-r requirements.txt (line 1)) (1.15.0)\n"
     ]
    }
   ],
   "source": [
    "!pip install -r requirements.txt"
   ]
  },
  {
   "cell_type": "code",
   "execution_count": 33,
   "metadata": {},
   "outputs": [],
   "source": [
    "import numpy as np\n",
    "from sklearn.preprocessing import MinMaxScaler\n",
    "np.random.seed(42)\n",
    "import pandas as pd\n",
    "import matplotlib.pyplot as plt"
   ]
  },
  {
   "cell_type": "code",
   "execution_count": 34,
   "metadata": {},
   "outputs": [],
   "source": [
    "# LEGGO I FILE DI TEST E DI TRAINING E LI METTO IN DUE DATAFRAME\n",
    "attacchi_cardiaci_training = pd.read_csv('training.csv')\n",
    "attacchi_cardiaci_test = pd.read_csv('test.csv')"
   ]
  },
  {
   "cell_type": "code",
   "execution_count": 35,
   "metadata": {},
   "outputs": [
    {
     "data": {
      "text/plain": [
       "(59, 2)"
      ]
     },
     "execution_count": 35,
     "metadata": {},
     "output_type": "execute_result"
    }
   ],
   "source": [
    "# PREPARO I VALORI DI USCITA PER IL TRAINING DEL MODELLO\n",
    "\n",
    "output_labels_training = pd.get_dummies(attacchi_cardiaci_training['DEATH_EVENT'].values).to_numpy()\n",
    "output_labels_test = pd.get_dummies(attacchi_cardiaci_test['DEATH_EVENT'].values).to_numpy()\n",
    "output_labels_test.shape"
   ]
  },
  {
   "cell_type": "code",
   "execution_count": 36,
   "metadata": {},
   "outputs": [],
   "source": [
    "#CANCELLO LE PRIME DUE COLONNE CHE NON SONO FEATURES\n",
    "\n",
    "attacchi_cardiaci_training = attacchi_cardiaci_training.drop(attacchi_cardiaci_training.columns[[0,1]], axis=1).to_numpy()\n",
    "attacchi_cardiaci_test = attacchi_cardiaci_test.drop(attacchi_cardiaci_test.columns[[0,1]], axis = 1).to_numpy()"
   ]
  },
  {
   "cell_type": "code",
   "execution_count": 37,
   "metadata": {},
   "outputs": [],
   "source": [
    "# USO UNO SCALER CHE MI PORTA TUTTI I VALORI VICINI TRA DI LORO NEL RANGE [0,1]\n",
    "\n",
    "scaler = MinMaxScaler()\n",
    "scaler.fit(attacchi_cardiaci_training)\n",
    "attacchi_cardiaci_training = scaler.transform(attacchi_cardiaci_training)\n",
    "\n",
    "scaler.fit(attacchi_cardiaci_test)\n",
    "attacchi_cardiaci_test = scaler.transform(attacchi_cardiaci_test)"
   ]
  },
  {
   "cell_type": "code",
   "execution_count": 38,
   "metadata": {},
   "outputs": [],
   "source": [
    "def initializerFirstLevel():\n",
    "    return np.random.randn(12,5) / np.sqrt(12);\n",
    "\n",
    "def initializerSecondLevel():\n",
    "    return np.random.randn(5,2) / np.sqrt(5);\n",
    "\n",
    "def sigmoid(x):\n",
    "    return 1/(1+np.exp(-x))\n",
    "\n",
    "def sigmoid_deriv(x):\n",
    "    return sigmoid(x)*(1 - sigmoid(x))"
   ]
  },
  {
   "cell_type": "code",
   "execution_count": 39,
   "metadata": {},
   "outputs": [],
   "source": [
    "learn_rate = 0.1"
   ]
  },
  {
   "cell_type": "code",
   "execution_count": 40,
   "metadata": {},
   "outputs": [
    {
     "data": {
      "text/plain": [
       "(179, 12)"
      ]
     },
     "execution_count": 40,
     "metadata": {},
     "output_type": "execute_result"
    }
   ],
   "source": [
    "np.shape(attacchi_cardiaci_training)"
   ]
  },
  {
   "cell_type": "code",
   "execution_count": 41,
   "metadata": {},
   "outputs": [],
   "source": [
    "def fit(dataset):\n",
    "    \n",
    "    x_train = dataset['data']\n",
    "    \n",
    "    y_train = dataset['outputs']\n",
    "    \n",
    "    # UTILIZZO IL METODO XAVIER PER L'INIZIALIZZAZIONE DEI PESI\n",
    "\n",
    "    w1 = initializerFirstLevel()\n",
    "    w2 = initializerSecondLevel()\n",
    "\n",
    "    errors = []\n",
    "\n",
    "    for i in range(1000):\n",
    "    \n",
    "        #FUNZIONI DI ATTIVAZIONE SU PESI MOLTIPLICATI PER INGRESSI\n",
    "        out1 = sigmoid(x_train.dot(w1))\n",
    "        out2 = sigmoid(out1.dot(w2))\n",
    "    \n",
    "        #USCITA REALE MENO USCITA PREDETTA\n",
    "        error2 = y_train - out2\n",
    "        gradient2 = error2 * sigmoid_deriv(out2)\n",
    "    \n",
    "        error1 = gradient2.dot(w2.T)\n",
    "        gradient1 = error1 * sigmoid_deriv(out1)\n",
    "    \n",
    "        #AGGIORNAMENTO PESI\n",
    "        w2 += learn_rate * out1.T.dot(gradient2)\n",
    "    \n",
    "        # RETROPROPAGAZIONE W * X, NELLA RETROPROPAGAZIONE IN CASO DI MOLTIPLICAZIONE, VALE LA REGOLA DELLO SCAMBIO, E W = GRADIENTE\n",
    "        # DELL'USCITA PER L'ALTRO INGRESSO DELLA MOLTIPLICAZIONE NEL GRAFO\n",
    "        w1 += learn_rate * x_train.T.dot(gradient1)\n",
    "    \n",
    "        #CALCOLO RSS \n",
    "        total_error = np.mean(np.square(error2))\n",
    "    \n",
    "        #AGGIUNGO ERRORE A LISTA PER IL PLOT\n",
    "        errors.append(total_error)\n",
    "        aux = 1 - total_error\n",
    "        accuracy = round((1 - total_error) * 100)\n",
    "    \n",
    "    return (errors,accuracy)\n",
    "    \n",
    "    \n",
    "def score(dataset, tipo_dataset):\n",
    "    \n",
    "    errors,accuracy = fit(dataset)\n",
    "    label = ''\n",
    "    if tipo_dataset == 1:\n",
    "        label = 'training'\n",
    "    else:\n",
    "        label = 'test'\n",
    "    plt.plot(errors, label=label)\n",
    "    plt.legend()\n",
    "    return (errors,accuracy)"
   ]
  },
  {
   "cell_type": "code",
   "execution_count": 45,
   "metadata": {},
   "outputs": [
    {
     "name": "stdout",
     "output_type": "stream",
     "text": [
      "ACCURACY TRAINING: 90.000000\n",
      "ACCURACY TEST: 94.000000\n"
     ]
    },
    {
     "data": {
      "image/png": "[encoded data removed]",
      "text/plain": [
       "<Figure size 432x288 with 1 Axes>"
      ]
     },
     "metadata": {
      "needs_background": "light"
     },
     "output_type": "display_data"
    }
   ],
   "source": [
    "datasetTraining = {'data': attacchi_cardiaci_training, 'outputs': output_labels_training}\n",
    "datasetTest = {'data': attacchi_cardiaci_test, 'outputs': output_labels_test}\n",
    "error_train, accuracy_train = score(datasetTraining, 1)\n",
    "error_test, accuracy_test = score(datasetTest, 0)\n",
    "print('ACCURACY TRAINING: %f' % accuracy_train)\n",
    "print('ACCURACY TEST: %f' % accuracy_test)"
   ]
  },
  {
   "cell_type": "code",
   "execution_count": null,
   "metadata": {},
   "outputs": [],
   "source": []
  }
 ],
 "metadata": {
  "kernelspec": {
   "display_name": "Python 3",
   "language": "python",
   "name": "python3"
  },
  "language_info": {
   "codemirror_mode": {
    "name": "ipython",
    "version": 3
   },
   "file_extension": ".py",
   "mimetype": "text/x-python",
   "name": "python",
   "nbconvert_exporter": "python",
   "pygments_lexer": "ipython3",
   "version": "3.8.3"
  }
 },
 "nbformat": 4,
 "nbformat_minor": 4
}
